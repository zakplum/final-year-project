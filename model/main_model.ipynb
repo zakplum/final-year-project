{
 "cells": [
  {
   "cell_type": "markdown",
   "id": "9e606884",
   "metadata": {},
   "source": [
    "## Final Classification Notebook"
   ]
  },
  {
   "cell_type": "code",
   "execution_count": 41,
   "id": "47c3799e",
   "metadata": {},
   "outputs": [],
   "source": [
    "# Imports\n",
    "import pandas as pd\n",
    "import matplotlib.pyplot as plt\n",
    "import seaborn as sns\n",
    "\n",
    "# Preprocessing\n",
    "from sklearn.model_selection import train_test_split\n",
    "import re\n",
    "import nltk\n",
    "from nltk.corpus import stopwords\n",
    "from nltk.stem import WordNetLemmatizer\n",
    "from sklearn.feature_extraction.text import TfidfVectorizer\n",
    "\n",
    "# Models\n",
    "from sklearn.linear_model import LogisticRegression\n",
    "from sklearn.model_selection import GridSearchCV\n",
    "\n",
    "# Under/Over-Sampling\n",
    "from imblearn.over_sampling import SMOTE\n",
    "from sklearn.preprocessing import StandardScaler\n",
    "from collections import Counter\n",
    "\n",
    "# Metrics\n",
    "from sklearn.metrics import classification_report, confusion_matrix"
   ]
  },
  {
   "cell_type": "code",
   "execution_count": 42,
   "id": "50607e96",
   "metadata": {},
   "outputs": [],
   "source": [
    "# Loading the dataset\n",
    "data_path = 'data.csv'\n",
    "data = pd.read_csv(data_path)"
   ]
  },
  {
   "cell_type": "markdown",
   "id": "a546f978",
   "metadata": {},
   "source": [
    "#### Data Exploration"
   ]
  },
  {
   "cell_type": "code",
   "execution_count": 43,
   "id": "030a0f5c",
   "metadata": {},
   "outputs": [
    {
     "data": {
      "text/plain": [
       "(   id                                            comment  score  sentiment\n",
       " 0   1               What happened to sevilla, seriously?      1          0\n",
       " 1   2           is tom huddlestone right or left footed?      1          0\n",
       " 2   3  How highly rated was Deivid Washington at Sant...      1          0\n",
       " 3   4  Yeah I thought you guys would go for more high...      1          0\n",
       " 4   5  Never judge a player based on such limited gam...      1          0,\n",
       "                  id         score     sentiment\n",
       " count  19282.000000  19282.000000  19282.000000\n",
       " mean    9641.500000      7.424800      0.162379\n",
       " std     5566.378281     44.088514      0.368808\n",
       " min        1.000000   -139.000000      0.000000\n",
       " 25%     4821.250000      1.000000      0.000000\n",
       " 50%     9641.500000      3.000000      0.000000\n",
       " 75%    14461.750000      6.000000      0.000000\n",
       " max    19282.000000   2663.000000      1.000000)"
      ]
     },
     "execution_count": 43,
     "metadata": {},
     "output_type": "execute_result"
    }
   ],
   "source": [
    "# Looking at the first 5 rows of the dataset and it's summary\n",
    "data_head = data.head()\n",
    "data_describe = data.describe()\n",
    "\n",
    "data_head, data_describe"
   ]
  },
  {
   "cell_type": "code",
   "execution_count": 44,
   "id": "a693ff10",
   "metadata": {},
   "outputs": [
    {
     "data": {
      "text/plain": [
       "sentiment\n",
       "0    16151\n",
       "1     3131\n",
       "Name: count, dtype: int64"
      ]
     },
     "execution_count": 44,
     "metadata": {},
     "output_type": "execute_result"
    }
   ],
   "source": [
    "# Looking at the value count and therefore the balance of classes\n",
    "data_count = data['sentiment'].value_counts()\n",
    "\n",
    "data_count"
   ]
  },
  {
   "cell_type": "code",
   "execution_count": 45,
   "id": "eb83c9fa",
   "metadata": {},
   "outputs": [
    {
     "data": {
      "text/plain": [
       "id           0\n",
       "comment      0\n",
       "score        0\n",
       "sentiment    0\n",
       "dtype: int64"
      ]
     },
     "execution_count": 45,
     "metadata": {},
     "output_type": "execute_result"
    }
   ],
   "source": [
    "# Checks to see if there are any missing values\n",
    "missing_values = data.isnull().sum()\n",
    "\n",
    "missing_values"
   ]
  },
  {
   "cell_type": "markdown",
   "id": "7b2005c6",
   "metadata": {},
   "source": [
    "Next we will take a look at whether the score (the sum of upvotes and downvotes on a comment) shows any correlation whether it's harmful or not"
   ]
  },
  {
   "cell_type": "code",
   "execution_count": 46,
   "id": "9d5d0228",
   "metadata": {},
   "outputs": [
    {
     "name": "stdout",
     "output_type": "stream",
     "text": [
      "Correlation coefficient between score and sentiment: 0.0050873506620956145\n"
     ]
    }
   ],
   "source": [
    "correlation = data['score'].corr(data['sentiment'])\n",
    "\n",
    "print(f\"Correlation coefficient between score and sentiment: {correlation}\")"
   ]
  },
  {
   "cell_type": "markdown",
   "id": "ece94e25",
   "metadata": {},
   "source": [
    "The result shows that there is no real relationship between score and sentiment, showing that harmful comments could equally be upvoted as much as downvoted. We can visualise this further with a scatter plot, where we can see both 0 or 1 sentiment typically sits in the same area in respect to it's score"
   ]
  },
  {
   "cell_type": "code",
   "execution_count": 53,
   "id": "de935a23",
   "metadata": {},
   "outputs": [
    {
     "data": {
      "image/png": "[encoded data removed]",
      "text/plain": [
       "<Figure size 1000x600 with 1 Axes>"
      ]
     },
     "metadata": {},
     "output_type": "display_data"
    }
   ],
   "source": [
    "# Scatter plot to visualise the week connection\n",
    "sns.set_style(\"darkgrid\")\n",
    "plt.figure(figsize=(10, 6)) \n",
    "sns.scatterplot(x='score', y='sentiment', data=data, alpha=0.5)\n",
    "\n",
    "plt.title('Scatter Plot of Score vs. Sentiment')\n",
    "plt.xlabel('Score')\n",
    "plt.ylabel('Sentiment')\n",
    "plt.xticks(rotation=45)\n",
    "plt.yticks([0, 1])\n",
    "plt.tight_layout()  \n",
    "\n",
    "plt.show()"
   ]
  },
  {
   "cell_type": "markdown",
   "id": "a9121b85",
   "metadata": {},
   "source": [
    "## Preprocessing"
   ]
  },
  {
   "cell_type": "code",
   "execution_count": 22,
   "id": "ad8d8753",
   "metadata": {},
   "outputs": [
    {
     "name": "stderr",
     "output_type": "stream",
     "text": [
      "[nltk_data] Downloading package stopwords to\n",
      "[nltk_data]     C:\\Users\\zakpl\\AppData\\Roaming\\nltk_data...\n",
      "[nltk_data]   Package stopwords is already up-to-date!\n",
      "[nltk_data] Downloading package wordnet to\n",
      "[nltk_data]     C:\\Users\\zakpl\\AppData\\Roaming\\nltk_data...\n",
      "[nltk_data]   Package wordnet is already up-to-date!\n"
     ]
    },
    {
     "data": {
      "text/plain": [
       "True"
      ]
     },
     "execution_count": 22,
     "metadata": {},
     "output_type": "execute_result"
    }
   ],
   "source": [
    "# Download necessary NLTK datasets\n",
    "nltk.download('stopwords')\n",
    "nltk.download('wordnet')"
   ]
  },
  {
   "cell_type": "code",
   "execution_count": 54,
   "id": "c0cd305a",
   "metadata": {},
   "outputs": [],
   "source": [
    "def clean_text(text):\n",
    "    text = text.lower()  \n",
    "    text = re.sub(r'http\\S+|www\\S+|https\\S+', '', text, flags=re.MULTILINE) \n",
    "    text = re.sub(r'\\W', ' ', text)  \n",
    "    text = re.sub(r'\\s+', ' ', text).strip()  \n",
    "    return text"
   ]
  },
  {
   "cell_type": "code",
   "execution_count": 24,
   "id": "5a514863",
   "metadata": {},
   "outputs": [],
   "source": [
    "def preprocess_text(text):\n",
    "    lemmatizer = WordNetLemmatizer()  \n",
    "    text = clean_text(text)  \n",
    "    tokens = text.split()\n",
    "    processed_tokens = [lemmatizer.lemmatize(word) for word in tokens if word not in stopwords.words('english')]\n",
    "    return ' '.join(processed_tokens)"
   ]
  },
  {
   "cell_type": "code",
   "execution_count": 25,
   "id": "fd238d72",
   "metadata": {},
   "outputs": [
    {
     "data": {
      "text/html": [
       "<div>\n",
       "<style scoped>\n",
       "    .dataframe tbody tr th:only-of-type {\n",
       "        vertical-align: middle;\n",
       "    }\n",
       "\n",
       "    .dataframe tbody tr th {\n",
       "        vertical-align: top;\n",
       "    }\n",
       "\n",
       "    .dataframe thead th {\n",
       "        text-align: right;\n",
       "    }\n",
       "</style>\n",
       "<table border=\"1\" class=\"dataframe\">\n",
       "  <thead>\n",
       "    <tr style=\"text-align: right;\">\n",
       "      <th></th>\n",
       "      <th>comment</th>\n",
       "      <th>processed_comment</th>\n",
       "    </tr>\n",
       "  </thead>\n",
       "  <tbody>\n",
       "    <tr>\n",
       "      <th>0</th>\n",
       "      <td>What happened to sevilla, seriously?</td>\n",
       "      <td>happened sevilla seriously</td>\n",
       "    </tr>\n",
       "    <tr>\n",
       "      <th>1</th>\n",
       "      <td>is tom huddlestone right or left footed?</td>\n",
       "      <td>tom huddlestone right left footed</td>\n",
       "    </tr>\n",
       "    <tr>\n",
       "      <th>2</th>\n",
       "      <td>How highly rated was Deivid Washington at Sant...</td>\n",
       "      <td>highly rated deivid washington santos two came...</td>\n",
       "    </tr>\n",
       "    <tr>\n",
       "      <th>3</th>\n",
       "      <td>Yeah I thought you guys would go for more high...</td>\n",
       "      <td>yeah thought guy would go high profile well kn...</td>\n",
       "    </tr>\n",
       "    <tr>\n",
       "      <th>4</th>\n",
       "      <td>Never judge a player based on such limited gam...</td>\n",
       "      <td>never judge player based limited gametime</td>\n",
       "    </tr>\n",
       "  </tbody>\n",
       "</table>\n",
       "</div>"
      ],
      "text/plain": [
       "                                             comment  \\\n",
       "0               What happened to sevilla, seriously?   \n",
       "1           is tom huddlestone right or left footed?   \n",
       "2  How highly rated was Deivid Washington at Sant...   \n",
       "3  Yeah I thought you guys would go for more high...   \n",
       "4  Never judge a player based on such limited gam...   \n",
       "\n",
       "                                   processed_comment  \n",
       "0                         happened sevilla seriously  \n",
       "1                  tom huddlestone right left footed  \n",
       "2  highly rated deivid washington santos two came...  \n",
       "3  yeah thought guy would go high profile well kn...  \n",
       "4          never judge player based limited gametime  "
      ]
     },
     "execution_count": 25,
     "metadata": {},
     "output_type": "execute_result"
    }
   ],
   "source": [
    "# Apply preprocessing\n",
    "data['processed_comment'] = data['comment'].apply(preprocess_text)\n",
    "\n",
    "# Display the first few rows of the processed data\n",
    "data[['comment', 'processed_comment']].head()"
   ]
  },
  {
   "cell_type": "code",
   "execution_count": 26,
   "id": "30350bcc",
   "metadata": {},
   "outputs": [],
   "source": [
    "# Initialise the TF-IDF vectorizer and then fit and transform\n",
    "vectorizer = TfidfVectorizer()\n",
    "\n",
    "X = vectorizer.fit_transform(data['processed_comment'])\n",
    "y = data['sentiment'] # Target Variable"
   ]
  },
  {
   "cell_type": "code",
   "execution_count": 27,
   "id": "67e481d0",
   "metadata": {},
   "outputs": [],
   "source": [
    "# Split the dataset into training and test sets\n",
    "X_train, X_test, y_train, y_test = train_test_split(X, y, test_size=0.2, random_state=42)"
   ]
  },
  {
   "cell_type": "markdown",
   "id": "c24e4729",
   "metadata": {},
   "source": [
    "# Model Creation\n",
    "\n",
    "## Base Logistic Regression Model"
   ]
  },
  {
   "cell_type": "code",
   "execution_count": 55,
   "id": "58bc0eda",
   "metadata": {},
   "outputs": [
    {
     "name": "stdout",
     "output_type": "stream",
     "text": [
      "Classification Report:\n",
      "               precision    recall  f1-score   support\n",
      "\n",
      "           0       0.90      1.00      0.95      3213\n",
      "           1       1.00      0.45      0.62       644\n",
      "\n",
      "    accuracy                           0.91      3857\n",
      "   macro avg       0.95      0.72      0.78      3857\n",
      "weighted avg       0.92      0.91      0.89      3857\n",
      "\n",
      "Confusion Matrix:\n",
      " [[3213    0]\n",
      " [ 355  289]]\n"
     ]
    }
   ],
   "source": [
    "# Initialise and train the base model\n",
    "model = LogisticRegression()\n",
    "model.fit(X_train, y_train)\n",
    "\n",
    "# Test Set Predictions\n",
    "y_pred = model.predict(X_test)\n",
    "\n",
    "# Classification report for the model\n",
    "print(\"Classification Report:\\n\", classification_report(y_test, y_pred))\n",
    "print(\"Confusion Matrix:\\n\", confusion_matrix(y_test, y_pred))"
   ]
  },
  {
   "cell_type": "markdown",
   "id": "3074e3ab",
   "metadata": {},
   "source": [
    "## Logistic Regression with GridSearchCV"
   ]
  },
  {
   "cell_type": "code",
   "execution_count": 56,
   "id": "be80b929",
   "metadata": {},
   "outputs": [],
   "source": [
    "# Initialise the model with liblinear solver and set a parameters grid\n",
    "model = LogisticRegression(solver='liblinear')\n",
    "param_grid = {\n",
    "    'penalty': ['l1', 'l2'], \n",
    "    'C': [0.01, 0.1, 1, 10, 100] \n",
    "}"
   ]
  },
  {
   "cell_type": "code",
   "execution_count": 57,
   "id": "5ca797a1",
   "metadata": {},
   "outputs": [
    {
     "name": "stdout",
     "output_type": "stream",
     "text": [
      "Fitting 5 folds for each of 10 candidates, totalling 50 fits\n",
      "[CV] END .................................C=0.01, penalty=l1; total time=   0.0s\n",
      "[CV] END .................................C=0.01, penalty=l1; total time=   0.0s\n",
      "[CV] END .................................C=0.01, penalty=l1; total time=   0.0s\n",
      "[CV] END .................................C=0.01, penalty=l1; total time=   0.0s\n",
      "[CV] END .................................C=0.01, penalty=l1; total time=   0.0s\n",
      "[CV] END .................................C=0.01, penalty=l2; total time=   0.0s\n",
      "[CV] END .................................C=0.01, penalty=l2; total time=   0.0s\n",
      "[CV] END .................................C=0.01, penalty=l2; total time=   0.0s\n",
      "[CV] END .................................C=0.01, penalty=l2; total time=   0.0s\n",
      "[CV] END .................................C=0.01, penalty=l2; total time=   0.0s\n",
      "[CV] END ..................................C=0.1, penalty=l1; total time=   0.0s\n",
      "[CV] END ..................................C=0.1, penalty=l1; total time=   0.0s\n",
      "[CV] END ..................................C=0.1, penalty=l1; total time=   0.0s\n",
      "[CV] END ..................................C=0.1, penalty=l1; total time=   0.0s\n",
      "[CV] END ..................................C=0.1, penalty=l1; total time=   0.0s\n",
      "[CV] END ..................................C=0.1, penalty=l2; total time=   0.0s\n",
      "[CV] END ..................................C=0.1, penalty=l2; total time=   0.0s\n",
      "[CV] END ..................................C=0.1, penalty=l2; total time=   0.0s\n",
      "[CV] END ..................................C=0.1, penalty=l2; total time=   0.0s\n",
      "[CV] END ..................................C=0.1, penalty=l2; total time=   0.0s\n",
      "[CV] END ....................................C=1, penalty=l1; total time=   0.0s\n",
      "[CV] END ....................................C=1, penalty=l1; total time=   0.0s\n",
      "[CV] END ....................................C=1, penalty=l1; total time=   0.0s\n",
      "[CV] END ....................................C=1, penalty=l1; total time=   0.0s\n",
      "[CV] END ....................................C=1, penalty=l1; total time=   0.0s\n",
      "[CV] END ....................................C=1, penalty=l2; total time=   0.0s\n",
      "[CV] END ....................................C=1, penalty=l2; total time=   0.0s\n",
      "[CV] END ....................................C=1, penalty=l2; total time=   0.0s\n",
      "[CV] END ....................................C=1, penalty=l2; total time=   0.0s\n",
      "[CV] END ....................................C=1, penalty=l2; total time=   0.0s\n",
      "[CV] END ...................................C=10, penalty=l1; total time=   0.1s\n",
      "[CV] END ...................................C=10, penalty=l1; total time=   0.1s\n",
      "[CV] END ...................................C=10, penalty=l1; total time=   0.1s\n",
      "[CV] END ...................................C=10, penalty=l1; total time=   0.1s\n",
      "[CV] END ...................................C=10, penalty=l1; total time=   0.0s\n",
      "[CV] END ...................................C=10, penalty=l2; total time=   0.0s\n",
      "[CV] END ...................................C=10, penalty=l2; total time=   0.0s\n",
      "[CV] END ...................................C=10, penalty=l2; total time=   0.0s\n",
      "[CV] END ...................................C=10, penalty=l2; total time=   0.0s\n",
      "[CV] END ...................................C=10, penalty=l2; total time=   0.0s\n",
      "[CV] END ..................................C=100, penalty=l1; total time=   0.1s\n",
      "[CV] END ..................................C=100, penalty=l1; total time=   0.1s\n",
      "[CV] END ..................................C=100, penalty=l1; total time=   0.1s\n",
      "[CV] END ..................................C=100, penalty=l1; total time=   0.1s\n",
      "[CV] END ..................................C=100, penalty=l1; total time=   0.1s\n",
      "[CV] END ..................................C=100, penalty=l2; total time=   0.0s\n",
      "[CV] END ..................................C=100, penalty=l2; total time=   0.0s\n",
      "[CV] END ..................................C=100, penalty=l2; total time=   0.0s\n",
      "[CV] END ..................................C=100, penalty=l2; total time=   0.0s\n",
      "[CV] END ..................................C=100, penalty=l2; total time=   0.0s\n",
      "Best parameters found:  {'C': 10, 'penalty': 'l1'}\n"
     ]
    }
   ],
   "source": [
    "# Setup and fit the Grid Search \n",
    "grid_search = GridSearchCV(estimator=model, param_grid=param_grid, cv=5, scoring='f1_macro', verbose=2)\n",
    "grid_search.fit(X_train, y_train)\n",
    "\n",
    "# Print the best parameters found\n",
    "print(\"Best parameters found: \", grid_search.best_params_)"
   ]
  },
  {
   "cell_type": "code",
   "execution_count": 58,
   "id": "8bc3d101",
   "metadata": {},
   "outputs": [
    {
     "name": "stdout",
     "output_type": "stream",
     "text": [
      "Classification Report:\n",
      "               precision    recall  f1-score   support\n",
      "\n",
      "           0       0.95      0.98      0.96      3213\n",
      "           1       0.90      0.73      0.80       644\n",
      "\n",
      "    accuracy                           0.94      3857\n",
      "   macro avg       0.92      0.85      0.88      3857\n",
      "weighted avg       0.94      0.94      0.94      3857\n",
      "\n",
      "Confusion Matrix:\n",
      " [[3159   54]\n",
      " [ 176  468]]\n"
     ]
    }
   ],
   "source": [
    "# Make predictions on the test set using the best model\n",
    "best_model = grid_search.best_estimator_\n",
    "y_pred = best_model.predict(X_test)\n",
    "\n",
    "# Classification report for the best model\n",
    "print(\"Classification Report:\\n\", classification_report(y_test, y_pred))\n",
    "print(\"Confusion Matrix:\\n\", confusion_matrix(y_test, y_pred))"
   ]
  },
  {
   "cell_type": "markdown",
   "id": "63b1a08e",
   "metadata": {},
   "source": []
  },
  {
   "cell_type": "code",
   "execution_count": 59,
   "id": "5ec5b39d",
   "metadata": {},
   "outputs": [
    {
     "name": "stdout",
     "output_type": "stream",
     "text": [
      "Original dataset shape Counter({0: 12938, 1: 2487})\n"
     ]
    }
   ],
   "source": [
    "scaler = StandardScaler(with_mean=False)\n",
    "X_train_scaled = scaler.fit_transform(X_train)\n",
    "\n",
    "print('Original dataset shape %s' % Counter(y_train))"
   ]
  },
  {
   "cell_type": "code",
   "execution_count": 60,
   "id": "286df735",
   "metadata": {},
   "outputs": [
    {
     "name": "stdout",
     "output_type": "stream",
     "text": [
      "Resampled dataset shape Counter({1: 12938, 0: 12938})\n"
     ]
    }
   ],
   "source": [
    "# Apply SMOTE\n",
    "sm = SMOTE(random_state=42)\n",
    "X_res, y_res = sm.fit_resample(X_train_scaled, y_train)\n",
    "\n",
    "print('Resampled dataset shape %s' % Counter(y_res))"
   ]
  },
  {
   "cell_type": "code",
   "execution_count": 61,
   "id": "a3cb67c3",
   "metadata": {},
   "outputs": [
    {
     "name": "stdout",
     "output_type": "stream",
     "text": [
      "Fitting 5 folds for each of 10 candidates, totalling 50 fits\n",
      "[CV] END .................................C=0.01, penalty=l1; total time=   0.0s\n",
      "[CV] END .................................C=0.01, penalty=l1; total time=   0.0s\n",
      "[CV] END .................................C=0.01, penalty=l1; total time=   0.0s\n",
      "[CV] END .................................C=0.01, penalty=l1; total time=   0.0s\n",
      "[CV] END .................................C=0.01, penalty=l1; total time=   0.0s\n",
      "[CV] END .................................C=0.01, penalty=l2; total time=   0.1s\n",
      "[CV] END .................................C=0.01, penalty=l2; total time=   0.2s\n",
      "[CV] END .................................C=0.01, penalty=l2; total time=   0.2s\n",
      "[CV] END .................................C=0.01, penalty=l2; total time=   0.2s\n",
      "[CV] END .................................C=0.01, penalty=l2; total time=   0.2s\n",
      "[CV] END ..................................C=0.1, penalty=l1; total time=   0.1s\n",
      "[CV] END ..................................C=0.1, penalty=l1; total time=   0.1s\n",
      "[CV] END ..................................C=0.1, penalty=l1; total time=   0.1s\n",
      "[CV] END ..................................C=0.1, penalty=l1; total time=   0.1s\n",
      "[CV] END ..................................C=0.1, penalty=l1; total time=   0.1s\n",
      "[CV] END ..................................C=0.1, penalty=l2; total time=   0.2s\n",
      "[CV] END ..................................C=0.1, penalty=l2; total time=   0.4s\n",
      "[CV] END ..................................C=0.1, penalty=l2; total time=   0.4s\n",
      "[CV] END ..................................C=0.1, penalty=l2; total time=   0.3s\n",
      "[CV] END ..................................C=0.1, penalty=l2; total time=   0.4s\n",
      "[CV] END ....................................C=1, penalty=l1; total time=   0.1s\n",
      "[CV] END ....................................C=1, penalty=l1; total time=   0.1s\n",
      "[CV] END ....................................C=1, penalty=l1; total time=   0.1s\n",
      "[CV] END ....................................C=1, penalty=l1; total time=   0.1s\n",
      "[CV] END ....................................C=1, penalty=l1; total time=   0.2s\n",
      "[CV] END ....................................C=1, penalty=l2; total time=   0.5s\n",
      "[CV] END ....................................C=1, penalty=l2; total time=   0.8s\n",
      "[CV] END ....................................C=1, penalty=l2; total time=   0.7s\n",
      "[CV] END ....................................C=1, penalty=l2; total time=   0.6s\n",
      "[CV] END ....................................C=1, penalty=l2; total time=   0.4s\n",
      "[CV] END ...................................C=10, penalty=l1; total time=   0.1s\n",
      "[CV] END ...................................C=10, penalty=l1; total time=   0.1s\n"
     ]
    },
    {
     "name": "stderr",
     "output_type": "stream",
     "text": [
      "C:\\Users\\zakpl\\anaconda3\\Lib\\site-packages\\sklearn\\svm\\_base.py:1242: ConvergenceWarning: Liblinear failed to converge, increase the number of iterations.\n",
      "  warnings.warn(\n"
     ]
    },
    {
     "name": "stdout",
     "output_type": "stream",
     "text": [
      "[CV] END ...................................C=10, penalty=l1; total time=   4.1s\n",
      "[CV] END ...................................C=10, penalty=l1; total time=   0.7s\n",
      "[CV] END ...................................C=10, penalty=l1; total time=   0.1s\n",
      "[CV] END ...................................C=10, penalty=l2; total time=   0.4s\n",
      "[CV] END ...................................C=10, penalty=l2; total time=   1.0s\n",
      "[CV] END ...................................C=10, penalty=l2; total time=   0.8s\n",
      "[CV] END ...................................C=10, penalty=l2; total time=   0.8s\n",
      "[CV] END ...................................C=10, penalty=l2; total time=   0.9s\n"
     ]
    },
    {
     "name": "stderr",
     "output_type": "stream",
     "text": [
      "C:\\Users\\zakpl\\anaconda3\\Lib\\site-packages\\sklearn\\svm\\_base.py:1242: ConvergenceWarning: Liblinear failed to converge, increase the number of iterations.\n",
      "  warnings.warn(\n"
     ]
    },
    {
     "name": "stdout",
     "output_type": "stream",
     "text": [
      "[CV] END ..................................C=100, penalty=l1; total time=   2.5s\n"
     ]
    },
    {
     "name": "stderr",
     "output_type": "stream",
     "text": [
      "C:\\Users\\zakpl\\anaconda3\\Lib\\site-packages\\sklearn\\svm\\_base.py:1242: ConvergenceWarning: Liblinear failed to converge, increase the number of iterations.\n",
      "  warnings.warn(\n"
     ]
    },
    {
     "name": "stdout",
     "output_type": "stream",
     "text": [
      "[CV] END ..................................C=100, penalty=l1; total time=   2.8s\n"
     ]
    },
    {
     "name": "stderr",
     "output_type": "stream",
     "text": [
      "C:\\Users\\zakpl\\anaconda3\\Lib\\site-packages\\sklearn\\svm\\_base.py:1242: ConvergenceWarning: Liblinear failed to converge, increase the number of iterations.\n",
      "  warnings.warn(\n"
     ]
    },
    {
     "name": "stdout",
     "output_type": "stream",
     "text": [
      "[CV] END ..................................C=100, penalty=l1; total time=   3.7s\n"
     ]
    },
    {
     "name": "stderr",
     "output_type": "stream",
     "text": [
      "C:\\Users\\zakpl\\anaconda3\\Lib\\site-packages\\sklearn\\svm\\_base.py:1242: ConvergenceWarning: Liblinear failed to converge, increase the number of iterations.\n",
      "  warnings.warn(\n"
     ]
    },
    {
     "name": "stdout",
     "output_type": "stream",
     "text": [
      "[CV] END ..................................C=100, penalty=l1; total time=   2.1s\n"
     ]
    },
    {
     "name": "stderr",
     "output_type": "stream",
     "text": [
      "C:\\Users\\zakpl\\anaconda3\\Lib\\site-packages\\sklearn\\svm\\_base.py:1242: ConvergenceWarning: Liblinear failed to converge, increase the number of iterations.\n",
      "  warnings.warn(\n"
     ]
    },
    {
     "name": "stdout",
     "output_type": "stream",
     "text": [
      "[CV] END ..................................C=100, penalty=l1; total time=   2.2s\n",
      "[CV] END ..................................C=100, penalty=l2; total time=   0.7s\n",
      "[CV] END ..................................C=100, penalty=l2; total time=   1.2s\n",
      "[CV] END ..................................C=100, penalty=l2; total time=   1.4s\n",
      "[CV] END ..................................C=100, penalty=l2; total time=   1.5s\n",
      "[CV] END ..................................C=100, penalty=l2; total time=   1.6s\n"
     ]
    },
    {
     "data": {
      "text/html": [
       "<style>#sk-container-id-1 {color: black;}#sk-container-id-1 pre{padding: 0;}#sk-container-id-1 div.sk-toggleable {background-color: white;}#sk-container-id-1 label.sk-toggleable__label {cursor: pointer;display: block;width: 100%;margin-bottom: 0;padding: 0.3em;box-sizing: border-box;text-align: center;}#sk-container-id-1 label.sk-toggleable__label-arrow:before {content: \"▸\";float: left;margin-right: 0.25em;color: #696969;}#sk-container-id-1 label.sk-toggleable__label-arrow:hover:before {color: black;}#sk-container-id-1 div.sk-estimator:hover label.sk-toggleable__label-arrow:before {color: black;}#sk-container-id-1 div.sk-toggleable__content {max-height: 0;max-width: 0;overflow: hidden;text-align: left;background-color: #f0f8ff;}#sk-container-id-1 div.sk-toggleable__content pre {margin: 0.2em;color: black;border-radius: 0.25em;background-color: #f0f8ff;}#sk-container-id-1 input.sk-toggleable__control:checked~div.sk-toggleable__content {max-height: 200px;max-width: 100%;overflow: auto;}#sk-container-id-1 input.sk-toggleable__control:checked~label.sk-toggleable__label-arrow:before {content: \"▾\";}#sk-container-id-1 div.sk-estimator input.sk-toggleable__control:checked~label.sk-toggleable__label {background-color: #d4ebff;}#sk-container-id-1 div.sk-label input.sk-toggleable__control:checked~label.sk-toggleable__label {background-color: #d4ebff;}#sk-container-id-1 input.sk-hidden--visually {border: 0;clip: rect(1px 1px 1px 1px);clip: rect(1px, 1px, 1px, 1px);height: 1px;margin: -1px;overflow: hidden;padding: 0;position: absolute;width: 1px;}#sk-container-id-1 div.sk-estimator {font-family: monospace;background-color: #f0f8ff;border: 1px dotted black;border-radius: 0.25em;box-sizing: border-box;margin-bottom: 0.5em;}#sk-container-id-1 div.sk-estimator:hover {background-color: #d4ebff;}#sk-container-id-1 div.sk-parallel-item::after {content: \"\";width: 100%;border-bottom: 1px solid gray;flex-grow: 1;}#sk-container-id-1 div.sk-label:hover label.sk-toggleable__label {background-color: #d4ebff;}#sk-container-id-1 div.sk-serial::before {content: \"\";position: absolute;border-left: 1px solid gray;box-sizing: border-box;top: 0;bottom: 0;left: 50%;z-index: 0;}#sk-container-id-1 div.sk-serial {display: flex;flex-direction: column;align-items: center;background-color: white;padding-right: 0.2em;padding-left: 0.2em;position: relative;}#sk-container-id-1 div.sk-item {position: relative;z-index: 1;}#sk-container-id-1 div.sk-parallel {display: flex;align-items: stretch;justify-content: center;background-color: white;position: relative;}#sk-container-id-1 div.sk-item::before, #sk-container-id-1 div.sk-parallel-item::before {content: \"\";position: absolute;border-left: 1px solid gray;box-sizing: border-box;top: 0;bottom: 0;left: 50%;z-index: -1;}#sk-container-id-1 div.sk-parallel-item {display: flex;flex-direction: column;z-index: 1;position: relative;background-color: white;}#sk-container-id-1 div.sk-parallel-item:first-child::after {align-self: flex-end;width: 50%;}#sk-container-id-1 div.sk-parallel-item:last-child::after {align-self: flex-start;width: 50%;}#sk-container-id-1 div.sk-parallel-item:only-child::after {width: 0;}#sk-container-id-1 div.sk-dashed-wrapped {border: 1px dashed gray;margin: 0 0.4em 0.5em 0.4em;box-sizing: border-box;padding-bottom: 0.4em;background-color: white;}#sk-container-id-1 div.sk-label label {font-family: monospace;font-weight: bold;display: inline-block;line-height: 1.2em;}#sk-container-id-1 div.sk-label-container {text-align: center;}#sk-container-id-1 div.sk-container {/* jupyter's `normalize.less` sets `[hidden] { display: none; }` but bootstrap.min.css set `[hidden] { display: none !important; }` so we also need the `!important` here to be able to override the default hidden behavior on the sphinx rendered scikit-learn.org. See: https://github.com/scikit-learn/scikit-learn/issues/21755 */display: inline-block !important;position: relative;}#sk-container-id-1 div.sk-text-repr-fallback {display: none;}</style><div id=\"sk-container-id-1\" class=\"sk-top-container\"><div class=\"sk-text-repr-fallback\"><pre>GridSearchCV(cv=5, estimator=LogisticRegression(solver=&#x27;liblinear&#x27;),\n",
       "             param_grid={&#x27;C&#x27;: [0.01, 0.1, 1, 10, 100], &#x27;penalty&#x27;: [&#x27;l1&#x27;, &#x27;l2&#x27;]},\n",
       "             scoring=&#x27;f1_macro&#x27;, verbose=2)</pre><b>In a Jupyter environment, please rerun this cell to show the HTML representation or trust the notebook. <br />On GitHub, the HTML representation is unable to render, please try loading this page with nbviewer.org.</b></div><div class=\"sk-container\" hidden><div class=\"sk-item sk-dashed-wrapped\"><div class=\"sk-label-container\"><div class=\"sk-label sk-toggleable\"><input class=\"sk-toggleable__control sk-hidden--visually\" id=\"sk-estimator-id-1\" type=\"checkbox\" ><label for=\"sk-estimator-id-1\" class=\"sk-toggleable__label sk-toggleable__label-arrow\">GridSearchCV</label><div class=\"sk-toggleable__content\"><pre>GridSearchCV(cv=5, estimator=LogisticRegression(solver=&#x27;liblinear&#x27;),\n",
       "             param_grid={&#x27;C&#x27;: [0.01, 0.1, 1, 10, 100], &#x27;penalty&#x27;: [&#x27;l1&#x27;, &#x27;l2&#x27;]},\n",
       "             scoring=&#x27;f1_macro&#x27;, verbose=2)</pre></div></div></div><div class=\"sk-parallel\"><div class=\"sk-parallel-item\"><div class=\"sk-item\"><div class=\"sk-label-container\"><div class=\"sk-label sk-toggleable\"><input class=\"sk-toggleable__control sk-hidden--visually\" id=\"sk-estimator-id-2\" type=\"checkbox\" ><label for=\"sk-estimator-id-2\" class=\"sk-toggleable__label sk-toggleable__label-arrow\">estimator: LogisticRegression</label><div class=\"sk-toggleable__content\"><pre>LogisticRegression(solver=&#x27;liblinear&#x27;)</pre></div></div></div><div class=\"sk-serial\"><div class=\"sk-item\"><div class=\"sk-estimator sk-toggleable\"><input class=\"sk-toggleable__control sk-hidden--visually\" id=\"sk-estimator-id-3\" type=\"checkbox\" ><label for=\"sk-estimator-id-3\" class=\"sk-toggleable__label sk-toggleable__label-arrow\">LogisticRegression</label><div class=\"sk-toggleable__content\"><pre>LogisticRegression(solver=&#x27;liblinear&#x27;)</pre></div></div></div></div></div></div></div></div></div></div>"
      ],
      "text/plain": [
       "GridSearchCV(cv=5, estimator=LogisticRegression(solver='liblinear'),\n",
       "             param_grid={'C': [0.01, 0.1, 1, 10, 100], 'penalty': ['l1', 'l2']},\n",
       "             scoring='f1_macro', verbose=2)"
      ]
     },
     "execution_count": 61,
     "metadata": {},
     "output_type": "execute_result"
    }
   ],
   "source": [
    "grid_search.fit(X_res, y_res)"
   ]
  },
  {
   "cell_type": "code",
   "execution_count": 62,
   "id": "59f947ab",
   "metadata": {},
   "outputs": [
    {
     "name": "stdout",
     "output_type": "stream",
     "text": [
      "Classification Report:\n",
      "               precision    recall  f1-score   support\n",
      "\n",
      "           0       0.95      0.95      0.95      3213\n",
      "           1       0.76      0.73      0.75       644\n",
      "\n",
      "    accuracy                           0.92      3857\n",
      "   macro avg       0.85      0.84      0.85      3857\n",
      "weighted avg       0.92      0.92      0.92      3857\n",
      "\n",
      "Confusion Matrix:\n",
      " [[3067  146]\n",
      " [ 173  471]]\n"
     ]
    }
   ],
   "source": [
    "# Use the best estimator directly\n",
    "best_model = grid_search.best_estimator_\n",
    "\n",
    "# Scale the test set without fitting (use the previously fitted scaler)\n",
    "X_test_scaled = scaler.transform(X_test)\n",
    "\n",
    "# Predict on the scaled and resampled test data\n",
    "y_pred = best_model.predict(X_test_scaled)\n",
    "\n",
    "# Evaluate the best model\n",
    "print(\"Classification Report:\\n\", classification_report(y_test, y_pred))\n",
    "print(\"Confusion Matrix:\\n\", confusion_matrix(y_test, y_pred))"
   ]
  },
  {
   "cell_type": "code",
   "execution_count": null,
   "id": "afd98915",
   "metadata": {},
   "outputs": [],
   "source": []
  }
 ],
 "metadata": {
  "kernelspec": {
   "display_name": "Python 3 (ipykernel)",
   "language": "python",
   "name": "python3"
  },
  "language_info": {
   "codemirror_mode": {
    "name": "ipython",
    "version": 3
   },
   "file_extension": ".py",
   "mimetype": "text/x-python",
   "name": "python",
   "nbconvert_exporter": "python",
   "pygments_lexer": "ipython3",
   "version": "3.11.5"
  }
 },
 "nbformat": 4,
 "nbformat_minor": 5
}
